{
 "cells": [
  {
   "cell_type": "markdown",
   "id": "0aa77fdb-a505-4c61-bc4b-bae425642443",
   "metadata": {},
   "source": [
    "## Introduction\n",
    "In this case study, we'll dive into the practical application of Exploratory Data Analysis (EDA) within the banking and financial services sector. my main focus will be on understanding how data analysis helps in managing risk when lending money to customers or simply reducing potential financial losses.."
   ]
  },
  {
   "cell_type": "markdown",
   "id": "71e5a784-bd98-4751-be10-64da99a2cfb5",
   "metadata": {},
   "source": [
    "## Business Understanding:\n",
    "\n",
    "As per my Experience with one of India's premier financial institutions ICICI, I've observed that, one of the key challenges to the NBFCs OR BFSI is assessing the risk of lending to customers with insufficient or no credit history while taking care of thier business. Some customers would take advantage of this situation and become defaulters, leading to financial losses for the bank.\n",
    "\n",
    "So, it is crucial to analyze the patterns present in the data to ensure that loan applicants capable of repaying are not rejected while minimizing the risk of approving loans to potential defaulters.\n",
    "\n",
    "When a customer applies for a loan, the company must decide whether to approve or reject the application based on the applicant's profile. Two risks are associated with this decision:\n",
    "\n",
    "1. If the applicant is likely to repay the loan, but the loan is not approved, it results in a loss of business for the company.\n",
    "2. If the applicant is unlikely to repay the loan (i.e., they are likely to default), approving the loan may lead to a financial loss for the company.\n",
    "\n",
    "The available data contains information about loan applications, including two types of scenarios:\n",
    "\n",
    "- Clients with payment difficulties: They had late payments for more than a specified number of days on at least one of the initial loan installments.\n",
    "- All other cases: Payments were made on time.\n",
    "\n",
    "The company can take one of four decisions regarding a loan application:\n",
    "\n",
    "- Approved: The loan application is approved.\n",
    "- Cancelled: The client cancelled the application during the approval process, either due to a change of mind or unfavorable pricing due to higher risk.\n",
    "- Refused: The company rejected the loan application (e.g., the client did not meet the requirements).\n",
    "- Unused offer: The loan was cancelled by the client at different stages of the process.\n",
    "\n",
    "In this case study, we will use Exploratory Data Analysis (EDA) to understand how consumer attributes and loan attributes influence the tendency of default and risk when lending money to customers.g money to customers.ers.le lending at ICICI Bank.tendency of default.\n",
    "\n",
    "\n",
    " "
   ]
  },
  {
   "cell_type": "markdown",
   "id": "10e33f08-eef6-435f-85e0-8887abb654b6",
   "metadata": {},
   "source": [
    "## Business Objectives\n",
    "This case study aims to identify patterns which indicate if a client has difficulty paying their installments which may be used for taking actions such as denying the loan, reducing the amount of loan, lending (to risky applicants) at a higher interest rate, etc. This will ensure that the consumers capable of repaying the loan are not rejected. Identification of such applicants using EDA is the aim of this case study.\n",
    "\n",
    "In other words, the company wants to understand the driving factors (or driver variables) behind loan default, i.e. the variables which are strong indicators of default. The company can utilise this knowledge for its portfolio and risk assessment."
   ]
  },
  {
   "cell_type": "markdown",
   "id": "9a073369-8336-423f-9b5d-154b6fa32a21",
   "metadata": {},
   "source": [
    "The data utilized in this analysis has been sourced from [Kaggle](https://www.kaggle.com/datasets/ravichan76/application-data).\r\n",
    "\r\n",
    "The file application_data.csvontains s comprehensive client information at the time of application, particularly focusing on discerning if a client encounters payment difficulties.\r\n",
    "\r\n",
    "Additionally, the dataset previous_application.csv provides insights into the client's historical loan data, detailing whether past applications were approved, cancelled, refused, or resulted in an unused offer.er"
   ]
  },
  {
   "cell_type": "markdown",
   "id": "a20d80a3-d6c7-4e83-ba1d-e0ac15b06ebf",
   "metadata": {},
   "source": [
    "## 1.Importing Libraries"
   ]
  },
  {
   "cell_type": "code",
   "execution_count": null,
   "id": "7cd61da8-ecc6-4eb7-af53-513320d5562a",
   "metadata": {},
   "outputs": [],
   "source": [
    "import pandas as pd\n",
    "import numpy as np\n",
    "import matplotlib.pyplot as plt\n",
    "import seaborn as sns\n",
    "pd.set_option('display.max_rows', 500)\n",
    "pd.set_option('display.max_columns', 500)\n",
    "pd.set_option('display.width', 1000)\n",
    "plt.style.use('ggplot')\n",
    "import plotly.express as px\n",
    "#surpress warning\n",
    "import warnings\n",
    "warnings.filterwarnings('ignore')"
   ]
  },
  {
   "cell_type": "markdown",
   "id": "626dc9c9-6552-4fc6-b0de-e0a4abf3f0ea",
   "metadata": {},
   "source": [
    "## 2. Reading and Inspection"
   ]
  },
  {
   "cell_type": "code",
   "execution_count": null,
   "id": "100054dc-bc34-432b-a56d-8cb3239b2216",
   "metadata": {},
   "outputs": [],
   "source": [
    "df = pd.read_csv(r'D:\\PortfolioProject\\PythonPortfolioProjects\\Bank\\application_data.csv')\n",
    "df.sample(5)"
   ]
  },
  {
   "cell_type": "code",
   "execution_count": null,
   "id": "d2f32bcb-23f8-4fd6-bd35-3045dcd7dbb1",
   "metadata": {},
   "outputs": [],
   "source": [
    "df.shape"
   ]
  },
  {
   "cell_type": "code",
   "execution_count": null,
   "id": "e677c476-0017-4658-906b-afe815a1393e",
   "metadata": {},
   "outputs": [],
   "source": [
    "df.describe().T[0:10]"
   ]
  },
  {
   "cell_type": "code",
   "execution_count": null,
   "id": "58f9e64d-559d-40aa-b8d0-5e2889815026",
   "metadata": {},
   "outputs": [],
   "source": [
    "df.dtypes"
   ]
  },
  {
   "cell_type": "code",
   "execution_count": null,
   "id": "344009c3-eeb8-454d-8e7c-bb5f780d055a",
   "metadata": {},
   "outputs": [],
   "source": [
    "df.select_dtypes(include='object').columns"
   ]
  },
  {
   "cell_type": "code",
   "execution_count": null,
   "id": "8d6763d2-00b1-4213-94d0-5128e352167e",
   "metadata": {},
   "outputs": [],
   "source": [
    "df.select_dtypes(include='number').columns"
   ]
  },
  {
   "cell_type": "markdown",
   "id": "78b117a4-76c1-4840-b58c-39540ddf779b",
   "metadata": {},
   "source": [
    "## 3. Checking null values"
   ]
  },
  {
   "cell_type": "code",
   "execution_count": null,
   "id": "bb077786-130d-4d0b-a0b5-36a07ee4000c",
   "metadata": {},
   "outputs": [],
   "source": [
    "df.shape"
   ]
  },
  {
   "cell_type": "code",
   "execution_count": null,
   "id": "a9bf71f2-cd94-4c14-a4cb-6a5f89669d97",
   "metadata": {},
   "outputs": [],
   "source": [
    "df.isnull().sum().plot(kind='line')"
   ]
  },
  {
   "cell_type": "markdown",
   "id": "d726fdbe-9b20-4905-af78-6b2e6983876d",
   "metadata": {},
   "source": [
    "Insight:\n",
    "Based on the above graph, it is evidednt that the dataset has many missing values. Let's check for each column what is the % of missing values"
   ]
  },
  {
   "cell_type": "code",
   "execution_count": null,
   "id": "b5d6853c-aa55-4dd3-8c39-2fd90acb8862",
   "metadata": {},
   "outputs": [],
   "source": [
    "round((df.isnull().sum()/len(df))*100, 2).sort_values(ascending=False)"
   ]
  },
  {
   "cell_type": "code",
   "execution_count": null,
   "id": "21cc617b-13ca-40af-a77d-966bf8e2ff35",
   "metadata": {},
   "outputs": [],
   "source": [
    "#Dropping off all the columns with more than 46% null values\n",
    "df.drop(columns=df.columns[(df.isna().sum()/len(df)*100 > 46)],inplace=True)"
   ]
  },
  {
   "cell_type": "markdown",
   "id": "9bd5cd08-1c96-4a13-8a83-067db915bbc2",
   "metadata": {},
   "source": [
    "There are still columns with a notably high null percentage, one may eliminate these columns based on their use or impute them with the appropriate value. I selected to eliminate columns based on my intuition or if they had a high rate of null values."
   ]
  },
  {
   "cell_type": "code",
   "execution_count": null,
   "id": "1515b8b7-db6a-4248-b47e-3c61413f9319",
   "metadata": {},
   "outputs": [],
   "source": [
    "df.drop(columns=['FLAG_DOCUMENT_2', 'FLAG_DOCUMENT_3','FLAG_DOCUMENT_4', 'FLAG_DOCUMENT_5', 'FLAG_DOCUMENT_6',\n",
    "       'FLAG_DOCUMENT_7', 'FLAG_DOCUMENT_8', 'FLAG_DOCUMENT_9','FLAG_DOCUMENT_10', 'FLAG_DOCUMENT_11', 'FLAG_DOCUMENT_12',\n",
    "       'FLAG_DOCUMENT_13', 'FLAG_DOCUMENT_14', 'FLAG_DOCUMENT_15','FLAG_DOCUMENT_16', 'FLAG_DOCUMENT_17', 'FLAG_DOCUMENT_18',\n",
    "       'FLAG_DOCUMENT_19', 'FLAG_DOCUMENT_20', 'FLAG_DOCUMENT_21', 'FLAG_EMP_PHONE', 'FLAG_WORK_PHONE', 'FLAG_CONT_MOBILE',\n",
    "       'FLAG_PHONE','CNT_FAM_MEMBERS','REGION_RATING_CLIENT_W_CITY','EXT_SOURCE_3'], inplace=True)"
   ]
  },
  {
   "cell_type": "code",
   "execution_count": null,
   "id": "797d2a4b-ddc3-435e-9f57-f85779590227",
   "metadata": {},
   "outputs": [],
   "source": [
    "np.array(df.columns[(df.isna().mean()>0)])"
   ]
  },
  {
   "cell_type": "markdown",
   "id": "135fc495-112d-496b-a26d-6a4c8002a032",
   "metadata": {},
   "source": [
    "We will examine the above mentioned columns for anomalies and potential imputers."
   ]
  },
  {
   "cell_type": "code",
   "execution_count": null,
   "id": "910a9c27-af36-4661-a268-78738cba4a18",
   "metadata": {},
   "outputs": [],
   "source": []
  },
  {
   "cell_type": "markdown",
   "id": "97c5957b-5b85-4c37-9d40-72e92f949085",
   "metadata": {},
   "source": [
    "### 4. Checking columns for values to impute"
   ]
  },
  {
   "cell_type": "markdown",
   "id": "c99b80dc-adc7-47c2-a42b-f13fac1df1de",
   "metadata": {},
   "source": [
    "'AMT_ANNUITY' Variable"
   ]
  },
  {
   "cell_type": "code",
   "execution_count": null,
   "id": "ad5346bf-c873-460a-9ecb-f2424b5ef3cb",
   "metadata": {},
   "outputs": [],
   "source": [
    "#Null values in AMT_ANNUITY column\n",
    "df['AMT_ANNUITY'].isna().sum()"
   ]
  },
  {
   "cell_type": "code",
   "execution_count": null,
   "id": "79adeb5a-f5cc-4cd6-8987-f0aedd8e8e2c",
   "metadata": {},
   "outputs": [],
   "source": [
    "df['AMT_ANNUITY'].isna().sum()/len(df)"
   ]
  },
  {
   "cell_type": "code",
   "execution_count": null,
   "id": "5aa066ae-b022-4b37-b6c1-207942d0e829",
   "metadata": {},
   "outputs": [],
   "source": [
    "#Checking for any outliers using a box plot\n",
    "sns.boxplot(data=df,x='AMT_ANNUITY')"
   ]
  },
  {
   "cell_type": "markdown",
   "id": "0765ab9c-0d16-4e51-b1d8-869fd17aaa51",
   "metadata": {},
   "source": [
    "We can see the outliers are present in the data and the difference between max and min is significant so, impute null values with median value rather than replacing with mean."
   ]
  },
  {
   "cell_type": "code",
   "execution_count": null,
   "id": "8302195d-c60d-4605-97ea-4516921d6ab1",
   "metadata": {},
   "outputs": [],
   "source": [
    "df['AMT_ANNUITY'].fillna(value=df['AMT_ANNUITY'].median(),inplace=True)"
   ]
  },
  {
   "cell_type": "code",
   "execution_count": null,
   "id": "763299a6-6413-4ffb-a79a-49fea64ee0fc",
   "metadata": {},
   "outputs": [],
   "source": [
    "df['AMT_ANNUITY'].isna().sum()"
   ]
  },
  {
   "cell_type": "markdown",
   "id": "ae43937c-f516-4d1f-a545-1ebc85d687ab",
   "metadata": {},
   "source": [
    "'AMT_GOODS_PRICE' Variable"
   ]
  },
  {
   "cell_type": "code",
   "execution_count": null,
   "id": "a13f4d13-60bd-4379-a7f9-240dac39a43b",
   "metadata": {},
   "outputs": [],
   "source": [
    "#Null values in AMT_GOODS_PRICE column\n",
    "df['AMT_GOODS_PRICE'].isna().sum()/len(df)"
   ]
  },
  {
   "cell_type": "code",
   "execution_count": null,
   "id": "79bc4bcd-c6ed-47f0-8702-29cb63d5c0bc",
   "metadata": {},
   "outputs": [],
   "source": [
    "#Checking for any outliers using a box plot\n",
    "sns.boxplot(data=df,x='AMT_GOODS_PRICE')"
   ]
  },
  {
   "cell_type": "code",
   "execution_count": null,
   "id": "9d234c89-3de7-4a64-9734-3b869ab7c3ef",
   "metadata": {},
   "outputs": [],
   "source": [
    "# Imputing null values with median\n",
    "df['AMT_GOODS_PRICE'].fillna(value=df['AMT_GOODS_PRICE'].median(),inplace=True)"
   ]
  },
  {
   "cell_type": "code",
   "execution_count": null,
   "id": "d57edcd6-61c9-4217-b394-a3dc1d53e15f",
   "metadata": {},
   "outputs": [],
   "source": [
    "df['AMT_GOODS_PRICE'].isna().sum()"
   ]
  },
  {
   "cell_type": "markdown",
   "id": "e206e933-0356-4f1e-8fd1-c16eb22877d3",
   "metadata": {},
   "source": [
    "'NAME_TYPE_SUITE' Variable"
   ]
  },
  {
   "cell_type": "code",
   "execution_count": null,
   "id": "ef83b58e-30a8-4d10-b521-5057588e8a61",
   "metadata": {},
   "outputs": [],
   "source": [
    "# Checking for the percentage of null values in NAME_TYPE_SUITE categorical variable\n",
    "df['NAME_TYPE_SUITE'].isna().sum()/len(df)*100"
   ]
  },
  {
   "cell_type": "markdown",
   "id": "f5b61409-4860-4328-abb9-0e0c5fce4acb",
   "metadata": {},
   "source": [
    "As a categorical variable, 'NAME TYPE SUITE' contains around 0.42% missing values. Therefore, we may impute the missing data with the most common group, \"Unaccompanied.\""
   ]
  },
  {
   "cell_type": "code",
   "execution_count": null,
   "id": "961c32a5-1595-4b0b-9d99-5df122a15a2c",
   "metadata": {},
   "outputs": [],
   "source": [
    "df['NAME_TYPE_SUITE'] = df['NAME_TYPE_SUITE'].fillna(df['NAME_TYPE_SUITE'].value_counts().index[0])"
   ]
  },
  {
   "cell_type": "code",
   "execution_count": null,
   "id": "ad74db63-d598-4644-b92d-6803a12baa83",
   "metadata": {},
   "outputs": [],
   "source": [
    "df['NAME_TYPE_SUITE'].isna().sum()"
   ]
  },
  {
   "cell_type": "markdown",
   "id": "88f0d852-5d2d-4f30-ac02-17c3c9eb5bbe",
   "metadata": {},
   "source": [
    "'OCCUPATION_TYPE' Variable"
   ]
  },
  {
   "cell_type": "code",
   "execution_count": null,
   "id": "603b2599-3cae-4a44-9eb1-ff9356f959e0",
   "metadata": {},
   "outputs": [],
   "source": [
    "df['OCCUPATION_TYPE'].isna().sum()/len(df)*100"
   ]
  },
  {
   "cell_type": "code",
   "execution_count": null,
   "id": "516956c6-bd4f-4b4c-9642-09e153526239",
   "metadata": {},
   "outputs": [],
   "source": [
    "df['OCCUPATION_TYPE'].value_counts().index[0]"
   ]
  },
  {
   "cell_type": "markdown",
   "id": "ee9b7157-efe8-4be2-95b0-e39b79189dac",
   "metadata": {},
   "source": [
    "As a categorical variable, 'OCCUPATION_TYPE' contains around 31.3% missing values. Therefore, we may impute the missing data with the most common group, \"Laborers.\""
   ]
  },
  {
   "cell_type": "code",
   "execution_count": null,
   "id": "c59d349c-8ff4-4e5a-9d69-d0c7c297ce79",
   "metadata": {},
   "outputs": [],
   "source": [
    "df['OCCUPATION_TYPE'] = df['OCCUPATION_TYPE'].fillna(df['OCCUPATION_TYPE'].value_counts().index[0])"
   ]
  },
  {
   "cell_type": "code",
   "execution_count": null,
   "id": "4c4b029f-5e64-47cd-bef9-43971663e2c6",
   "metadata": {},
   "outputs": [],
   "source": [
    "df['OCCUPATION_TYPE'].isna().sum()"
   ]
  },
  {
   "cell_type": "markdown",
   "id": "d9fa337f-1343-4da1-97fa-8211ff0f6fb5",
   "metadata": {},
   "source": [
    "'EXT_SOURCE_2' Variable"
   ]
  },
  {
   "cell_type": "code",
   "execution_count": null,
   "id": "e2bb723a-6a4e-400d-bfd1-608b15280c5a",
   "metadata": {},
   "outputs": [],
   "source": [
    "df['EXT_SOURCE_2'].isna().sum()/len(df)*100"
   ]
  },
  {
   "cell_type": "code",
   "execution_count": null,
   "id": "2a95b4a3-c723-4a6b-9134-368855527db7",
   "metadata": {},
   "outputs": [],
   "source": [
    "#Checking for any outliers using a box plot\n",
    "sns.boxplot(data=df,x='EXT_SOURCE_2')"
   ]
  },
  {
   "cell_type": "markdown",
   "id": "0a930a1d-60c4-4de7-bb15-e2a40278b5fa",
   "metadata": {},
   "source": [
    "Because there are no outliers in the data, we may impute missing values using the mean."
   ]
  },
  {
   "cell_type": "code",
   "execution_count": null,
   "id": "3207beee-e3d7-494d-ab5e-96e3a8f76a35",
   "metadata": {},
   "outputs": [],
   "source": [
    "# Imputing null values with mode\n",
    "df['EXT_SOURCE_2'].fillna(value=df['EXT_SOURCE_2'].mean(),inplace=True)"
   ]
  },
  {
   "cell_type": "code",
   "execution_count": null,
   "id": "60e4bf3e-e5b4-410c-a9fd-5dcb1910ae3e",
   "metadata": {},
   "outputs": [],
   "source": [
    "df['EXT_SOURCE_2'].isna().sum()"
   ]
  },
  {
   "cell_type": "code",
   "execution_count": null,
   "id": "f6c5c177-0c28-4aa6-806a-6e02e867c1a0",
   "metadata": {},
   "outputs": [],
   "source": [
    "df['CODE_GENDER'].value_counts()"
   ]
  },
  {
   "cell_type": "markdown",
   "id": "1164a253-8a42-49cd-bda9-5cbbe4510f2c",
   "metadata": {},
   "source": [
    "As can be seen, Female(F) is the majority, and just four rows include XNA values. Thus, updating those columns with Gender = 'F' will not have a significant effect on the dataset."
   ]
  },
  {
   "cell_type": "code",
   "execution_count": null,
   "id": "a14c60ee-5973-4b74-9b9e-0f5166151143",
   "metadata": {},
   "outputs": [],
   "source": [
    "df.loc[df['CODE_GENDER']=='XNA','CODE_GENDER']='F'"
   ]
  },
  {
   "cell_type": "code",
   "execution_count": null,
   "id": "d1785f90-e827-4566-88d1-7758d8ba80da",
   "metadata": {},
   "outputs": [],
   "source": [
    "df['DAYS_LAST_PHONE_CHANGE'].fillna(df.DAYS_LAST_PHONE_CHANGE.mode()[0],inplace = True) "
   ]
  },
  {
   "cell_type": "code",
   "execution_count": null,
   "id": "44b4d374-684b-4752-a6f0-2973a9e78ac5",
   "metadata": {},
   "outputs": [],
   "source": [
    "df['AMT_REQ_CREDIT_BUREAU_HOUR'] = df['AMT_REQ_CREDIT_BUREAU_HOUR'].fillna(df['AMT_REQ_CREDIT_BUREAU_HOUR'].value_counts().index[0])"
   ]
  },
  {
   "cell_type": "code",
   "execution_count": null,
   "id": "d8a569ca-1dcb-40a4-b467-ecc559060774",
   "metadata": {},
   "outputs": [],
   "source": [
    "df['AMT_REQ_CREDIT_BUREAU_DAY'] = df['AMT_REQ_CREDIT_BUREAU_DAY'].fillna(df['AMT_REQ_CREDIT_BUREAU_DAY'].value_counts().index[0])"
   ]
  },
  {
   "cell_type": "code",
   "execution_count": null,
   "id": "815aa10c-da74-4183-a464-fc907671e71e",
   "metadata": {},
   "outputs": [],
   "source": [
    "df['AMT_REQ_CREDIT_BUREAU_WEEK'] = df['AMT_REQ_CREDIT_BUREAU_WEEK'].fillna(df['AMT_REQ_CREDIT_BUREAU_WEEK'].value_counts().index[0])"
   ]
  },
  {
   "cell_type": "code",
   "execution_count": null,
   "id": "889ec247-139e-48ff-832d-221f166dda0e",
   "metadata": {},
   "outputs": [],
   "source": [
    "df['AMT_REQ_CREDIT_BUREAU_MON'] = df['AMT_REQ_CREDIT_BUREAU_MON'].fillna(df['AMT_REQ_CREDIT_BUREAU_MON'].value_counts().index[0])"
   ]
  },
  {
   "cell_type": "code",
   "execution_count": null,
   "id": "b1633db0-cbd2-4857-88d3-6295cb2905cd",
   "metadata": {},
   "outputs": [],
   "source": [
    "df['AMT_REQ_CREDIT_BUREAU_QRT'] = df['AMT_REQ_CREDIT_BUREAU_QRT'].fillna(df['AMT_REQ_CREDIT_BUREAU_QRT'].value_counts().index[0])"
   ]
  },
  {
   "cell_type": "code",
   "execution_count": null,
   "id": "674c1525-c481-40d0-8119-a3fe567bd8c6",
   "metadata": {},
   "outputs": [],
   "source": [
    "df['AMT_REQ_CREDIT_BUREAU_YEAR'] = df['AMT_REQ_CREDIT_BUREAU_YEAR'].fillna(df['AMT_REQ_CREDIT_BUREAU_YEAR'].value_counts().index[0])"
   ]
  },
  {
   "cell_type": "code",
   "execution_count": null,
   "id": "7e47016e-cdca-401c-85ad-06ebc102dfd1",
   "metadata": {},
   "outputs": [],
   "source": [
    "(df.isnull().sum()/len(df)*100).sort_values(ascending=False).head()"
   ]
  },
  {
   "cell_type": "code",
   "execution_count": null,
   "id": "7963c085-d990-423f-991c-2cd1f35eccbd",
   "metadata": {},
   "outputs": [],
   "source": [
    "df[df['ORGANIZATION_TYPE']=='XNA']['NAME_INCOME_TYPE'].head()"
   ]
  },
  {
   "cell_type": "markdown",
   "id": "fe20c11b-e506-4a57-ae62-7f6b67026bff",
   "metadata": {},
   "source": [
    "We can see, for almost all the instances where 'ORGANIZATION_TYPE' = 'XNA' they fall in Pensioner Income category"
   ]
  },
  {
   "cell_type": "code",
   "execution_count": null,
   "id": "3fed6c26-0591-47ab-b219-ea51d607d62e",
   "metadata": {},
   "outputs": [],
   "source": [
    "df['ORGANIZATION_TYPE'] = df['ORGANIZATION_TYPE'].replace('XNA','Pensioner')"
   ]
  },
  {
   "cell_type": "code",
   "execution_count": null,
   "id": "4df64e03-56d1-42e1-a63f-d078ddc78cc4",
   "metadata": {},
   "outputs": [],
   "source": [
    "num_values = pd.to_numeric(df['CNT_CHILDREN'], errors='coerce')\n",
    "non_numeric = df['CNT_CHILDREN'][num_values.isna()]\n",
    "\n",
    "print(non_numeric)"
   ]
  },
  {
   "cell_type": "markdown",
   "id": "0b9d960f-1e22-4047-9cc1-bfd385d760d7",
   "metadata": {},
   "source": [
    "there are for datatypes that are non-numeric that are f let's remove it"
   ]
  },
  {
   "cell_type": "code",
   "execution_count": null,
   "id": "209d46bc-9be6-4f6e-b2f9-f319d62bf30f",
   "metadata": {},
   "outputs": [],
   "source": [
    "numeric_values = pd.to_numeric(df['CNT_CHILDREN'], errors='coerce')\n",
    "df = df[~numeric_values.isna()]"
   ]
  },
  {
   "cell_type": "code",
   "execution_count": null,
   "id": "d9d385d6-248a-437a-a289-48dc34ed085d",
   "metadata": {},
   "outputs": [],
   "source": [
    "sns.boxplot(data=df,x='CNT_CHILDREN')"
   ]
  },
  {
   "cell_type": "markdown",
   "id": "f2e596f1-5dc0-4da4-88f3-917d8fc14eca",
   "metadata": {},
   "source": [
    "### 5. Changing Data Types"
   ]
  },
  {
   "cell_type": "markdown",
   "id": "a3fad406-d9a0-425e-8578-dadc9604531d",
   "metadata": {},
   "source": [
    "we already see there are many columns that have float datatypes so All can be converted to integer data types."
   ]
  },
  {
   "cell_type": "code",
   "execution_count": null,
   "id": "f89e9c50-eae0-444c-8ab8-d7fcf03f8ed0",
   "metadata": {},
   "outputs": [],
   "source": [
    "cols=df.select_dtypes(include='number').columns\n",
    "cols"
   ]
  },
  {
   "cell_type": "code",
   "execution_count": null,
   "id": "43ad7d49-7b1a-4e07-8180-55d0ea851f6a",
   "metadata": {},
   "outputs": [],
   "source": [
    "df[cols]= df[cols].astype('int64',errors='ignore')"
   ]
  },
  {
   "cell_type": "code",
   "execution_count": null,
   "id": "98560fb3-7ce0-409e-bf86-4e8753d77a0f",
   "metadata": {},
   "outputs": [],
   "source": [
    "cols=df.select_dtypes(include='object').columns\n",
    "cols"
   ]
  },
  {
   "cell_type": "code",
   "execution_count": null,
   "id": "a255ca11-19d8-4806-be0b-265bec3d3da7",
   "metadata": {},
   "outputs": [],
   "source": [
    "df[cols]= df[cols].astype('str',errors='ignore')"
   ]
  },
  {
   "cell_type": "code",
   "execution_count": null,
   "id": "d1639b3b-6338-40a8-ac1e-fa2a53c4cb94",
   "metadata": {},
   "outputs": [],
   "source": [
    "df['DAYS_BIRTH'] = abs(df['DAYS_BIRTH'])//365\n",
    "df['DAYS_BIRTH']"
   ]
  },
  {
   "cell_type": "code",
   "execution_count": null,
   "id": "dcb8fc02-070b-4643-af51-5a381ccddfc2",
   "metadata": {},
   "outputs": [],
   "source": [
    "df['DAYS_EMPLOYED'] = round(abs(df['DAYS_EMPLOYED'])/365,2)\n",
    "df['DAYS_EMPLOYED']"
   ]
  },
  {
   "cell_type": "code",
   "execution_count": null,
   "id": "b8246b46-6c52-4ac7-9ccd-d5e3ed9cbf49",
   "metadata": {},
   "outputs": [],
   "source": [
    "df['DAYS_REGISTRATION'] = round(abs(df['DAYS_REGISTRATION']/365),2)\n",
    "df['DAYS_REGISTRATION']"
   ]
  },
  {
   "cell_type": "code",
   "execution_count": null,
   "id": "f1c79b03-edd8-480f-8352-cb215e9ed1cc",
   "metadata": {},
   "outputs": [],
   "source": [
    "df['DAYS_ID_PUBLISH'] = round(abs(df['DAYS_ID_PUBLISH']/365),2)\n",
    "df['DAYS_ID_PUBLISH']"
   ]
  },
  {
   "cell_type": "markdown",
   "id": "91fddea0-6418-43e2-b831-1b6868634610",
   "metadata": {},
   "source": [
    "### 6. Dealing with outliers"
   ]
  },
  {
   "cell_type": "code",
   "execution_count": null,
   "id": "90d8d1be-8a65-4462-8391-475baef825d1",
   "metadata": {},
   "outputs": [],
   "source": [
    "df.columns"
   ]
  },
  {
   "cell_type": "code",
   "execution_count": null,
   "id": "a9321092-cdbf-4c80-9b40-cb98d786781c",
   "metadata": {},
   "outputs": [],
   "source": [
    "sns.boxplot(df, x='AMT_INCOME_TOTAL')"
   ]
  },
  {
   "cell_type": "code",
   "execution_count": null,
   "id": "a4b16342-ec14-45af-9c79-fdf8be383ecd",
   "metadata": {},
   "outputs": [],
   "source": [
    "px.box(df,x='AMT_INCOME_TOTAL',height=300,width=700,template='plotly_white',\n",
    "      title=\"Box plot of AMT_INCOME_TOTAL Variable\")"
   ]
  },
  {
   "cell_type": "markdown",
   "id": "cb920f50-48e9-4a38-82c5-36e30036d4c7",
   "metadata": {},
   "source": [
    "Observing that around 30% of the data are outliers indicates that the data is widely spread and requires additional investigation."
   ]
  },
  {
   "cell_type": "markdown",
   "id": "1b989986-bbf4-489b-ba06-e7260d87b3db",
   "metadata": {},
   "source": [
    "We can see that there is no statistically significant difference across quantiles, and as income is a continuous variable, it varies from person to person."
   ]
  },
  {
   "cell_type": "code",
   "execution_count": null,
   "id": "4eab697b-27cb-44f3-90ea-f8a12940d921",
   "metadata": {},
   "outputs": [],
   "source": [
    "px.box(df,x='AMT_CREDIT',height=300,width=700,template='plotly_white',\n",
    "      title=\"Box plot of AMT_CREDIT Variable\")"
   ]
  },
  {
   "cell_type": "markdown",
   "id": "7fac8cac-2c22-484a-8a9a-89289644a239",
   "metadata": {},
   "source": [
    "We can see that there is no statistically significant difference across quantiles, and as credit is a continuous variable, it varies from person to person."
   ]
  },
  {
   "cell_type": "code",
   "execution_count": null,
   "id": "ed71cd27-b3a8-4868-9b72-7ce9db8081ba",
   "metadata": {},
   "outputs": [],
   "source": [
    "px.box(df,x='DAYS_BIRTH',height=300,width=700,template='plotly_white',\n",
    "      title=\"Box plot of DAYS_BIRTH Variable\")"
   ]
  },
  {
   "cell_type": "markdown",
   "id": "650ecf8d-3c2f-4e77-9601-1b5eebd188fd",
   "metadata": {},
   "source": [
    "According to the box plot, there are no outliers. There is no substantial gap between the mean and the median. "
   ]
  },
  {
   "cell_type": "code",
   "execution_count": null,
   "id": "9d08780a-d202-4cc6-897a-ce69408a8c39",
   "metadata": {},
   "outputs": [],
   "source": [
    "px.box(df,x='AMT_ANNUITY',height=300,width=700,template='plotly_white',\n",
    "      title=\"Box plot of AMT_ANNUITY Variable\")"
   ]
  },
  {
   "cell_type": "markdown",
   "id": "77e80203-c89d-4b30-b7f9-3ad4a69faa0e",
   "metadata": {},
   "source": [
    "Observing that 30% of the data are outliers indicates that the data is widely spread and requires additional investigation.We can see that there Observing that 30% of the data are outliers indicates that the data is widely spread and requires additional investigation.We can see that there is no statistically significant difference across quantiles, and as income is a continuous variable, it varies from person to person. no statistically significant difference across quantiles, and as income is a continuous variable, it varies from person to person."
   ]
  },
  {
   "cell_type": "code",
   "execution_count": null,
   "id": "798acda4-0108-412d-9f86-6bb259b052b0",
   "metadata": {},
   "outputs": [],
   "source": [
    "px.box(df,x='AMT_GOODS_PRICE',height=300,width=700,template='plotly_white',\n",
    "      title=\"Box plot of AMT_GOODS_PRICE Variable\")"
   ]
  },
  {
   "cell_type": "markdown",
   "id": "69e634a5-f01a-4c68-9938-a7e94f35dc37",
   "metadata": {},
   "source": [
    "Observing the box plot, we can say that around 30% of the data are outliers indicates that the data is widely spread and requires additional investigation.We can see that there is no statisticalObserving the box plot, we can say that 30% of the data are outliers indicates that the data is widely spread and requires additional investigation.We can see that there is no statistically significant difference across quantiles, and as income is a continuous variable, it varies from person to person.ly significant difference across quantiles, and as income is a continuous variable, it varies from person to person."
   ]
  },
  {
   "cell_type": "code",
   "execution_count": null,
   "id": "92cbfbbd-37d9-4260-8e4c-ad541e490e4c",
   "metadata": {},
   "outputs": [],
   "source": []
  },
  {
   "cell_type": "markdown",
   "id": "92a6398e-23ee-49b0-b98f-54c0d7be1da2",
   "metadata": {},
   "source": [
    "### 7. Continous variables binning"
   ]
  },
  {
   "cell_type": "code",
   "execution_count": null,
   "id": "f0613028-2760-44fa-b38e-dcaa403f79f9",
   "metadata": {},
   "outputs": [],
   "source": [
    "#Creating a categorical variable based on income total\n",
    "df['AMT_INCOME_TOTAL_CAT'] = pd.qcut(df['AMT_INCOME_TOTAL'],q=[0,0.2,0.5,0.8,0.95,1],\n",
    "       labels=['VeryLow','Low','Medium','High','VeryHigh'])"
   ]
  },
  {
   "cell_type": "code",
   "execution_count": null,
   "id": "5041d9f8-28b5-403c-978b-05d7114f1c1d",
   "metadata": {},
   "outputs": [],
   "source": [
    "df['AMT_INCOME_TOTAL_CAT'].head()"
   ]
  },
  {
   "cell_type": "code",
   "execution_count": null,
   "id": "0af91dd0-96e9-4b27-a903-e68d080425e6",
   "metadata": {},
   "outputs": [],
   "source": [
    "#Creating a categorical variable based on credit amount\n",
    "df['AMT_CREDIT_CAT'] = pd.qcut(df['AMT_CREDIT'],q=[0,0.2,0.5,0.8,0.95,1], labels=['VeryLow','Low','Medium','High','VeryHigh'])"
   ]
  },
  {
   "cell_type": "code",
   "execution_count": null,
   "id": "78a187ac-06a8-4c3d-afbe-c9884cd0148f",
   "metadata": {},
   "outputs": [],
   "source": [
    "df['AMT_CREDIT_CAT'].head()"
   ]
  },
  {
   "cell_type": "code",
   "execution_count": null,
   "id": "5d458677-c691-4f10-ad81-e31ad4443fd9",
   "metadata": {},
   "outputs": [],
   "source": [
    "#Creating a categorical variable based on total_amount of goods\n",
    "df['AMT_GOODS_PRICE_CAT'] = pd.qcut(df['AMT_GOODS_PRICE'],q=[0,0.2,0.5,0.8,0.95,1],\n",
    "       labels=['VeryLow','Low','Medium','High','VeryHigh'])"
   ]
  },
  {
   "cell_type": "code",
   "execution_count": null,
   "id": "5e6e58e7-790e-4a20-b4a6-fde449a9d6a4",
   "metadata": {},
   "outputs": [],
   "source": [
    "df['AMT_GOODS_PRICE_CAT'].head()"
   ]
  },
  {
   "cell_type": "code",
   "execution_count": null,
   "id": "44c54a27-e58d-4703-a2dd-316dc5bb48a2",
   "metadata": {},
   "outputs": [],
   "source": [
    "#Creating a categorical variable based on total_amount of annuity\n",
    "df['AMT_ANNUITY_CAT'] = pd.qcut(df['AMT_ANNUITY'],q=[0,0.2,0.5,0.8,0.95,1],\n",
    "       labels=['VeryLow','Low','Medium','High','VeryHigh'])"
   ]
  },
  {
   "cell_type": "code",
   "execution_count": null,
   "id": "8863a301-f640-45e8-ac56-cf28c22ead0a",
   "metadata": {},
   "outputs": [],
   "source": [
    "df['AMT_ANNUITY_CAT'].head()"
   ]
  },
  {
   "cell_type": "code",
   "execution_count": null,
   "id": "c75b5438-a5d6-4cc5-bd84-fafe75d2b014",
   "metadata": {},
   "outputs": [],
   "source": [
    "df['DAYS_BIRTH'].max()"
   ]
  },
  {
   "cell_type": "code",
   "execution_count": null,
   "id": "75c72490-e18f-4a20-a2f3-50a9a91df882",
   "metadata": {},
   "outputs": [],
   "source": [
    "#Creating a categorical variable based on total_amount of annuity\n",
    "bins=[0,20,30,40,50,60,70]#Creating a categorical variable based on total_amount of annuity\n",
    "bins=[0,20,30,40,50,60,70]\n",
    "labels=['0-20','21-30','31-40','41-50','51-60','61-70']\n",
    "df['DAYS_BIRTH_CAT'] = pd.cut(df['DAYS_BIRTH'],bins=bins,labels=labels,right=True)\n",
    "labels=['0-20','21-30','31-40','41-50','51-60','61-70']\n",
    "df['DAYS_BIRTH_CAT'] = pd.cut(df['DAYS_BIRTH'],bins=bins,labels=labels,right=True)"
   ]
  },
  {
   "cell_type": "code",
   "execution_count": null,
   "id": "cc8266ce-7205-4f14-afca-3d1c32279dae",
   "metadata": {},
   "outputs": [],
   "source": [
    "df['DAYS_BIRTH_CAT'].head()"
   ]
  },
  {
   "cell_type": "code",
   "execution_count": null,
   "id": "4c4fa0ae-ab0a-4288-aefb-aac245a1444e",
   "metadata": {},
   "outputs": [],
   "source": [
    "# Creating a new column determining the ratio of AMT_CREDIT and AMT_INCOME_TOTAL.\n",
    "df['CREDIT_INCOME_RATIO']=round((df['AMT_CREDIT']/df['AMT_INCOME_TOTAL']),1)"
   ]
  },
  {
   "cell_type": "code",
   "execution_count": null,
   "id": "824676db-010e-4d6b-a19a-40c76dfc0dcd",
   "metadata": {},
   "outputs": [],
   "source": [
    "# Creating a new column determining the proportion of the individual's social circle who defaulted after 30DPD.\n",
    "df['30DPD_default_social_circle']=df['DEF_30_CNT_SOCIAL_CIRCLE']/df['OBS_30_CNT_SOCIAL_CIRCLE']"
   ]
  },
  {
   "cell_type": "code",
   "execution_count": null,
   "id": "0a6e22bb-303a-4a5e-a193-9ba7f87c1e22",
   "metadata": {},
   "outputs": [],
   "source": [
    "df.drop(columns=['DEF_30_CNT_SOCIAL_CIRCLE','OBS_30_CNT_SOCIAL_CIRCLE'],inplace=True)"
   ]
  },
  {
   "cell_type": "code",
   "execution_count": null,
   "id": "9905f739-6e04-4c5b-9b4a-8fca8af82c72",
   "metadata": {},
   "outputs": [],
   "source": [
    "df['30DPD_default_social_circle'] = round(df['30DPD_default_social_circle']*100,2)"
   ]
  },
  {
   "cell_type": "code",
   "execution_count": null,
   "id": "dbc18adb-5c21-4fcc-9970-cd40311762a5",
   "metadata": {},
   "outputs": [],
   "source": [
    "df['30DPD_default_social_circle'].fillna(value=0,inplace=True)"
   ]
  },
  {
   "cell_type": "code",
   "execution_count": null,
   "id": "5dab31bd-81f7-4c78-9d07-d449d756f42d",
   "metadata": {},
   "outputs": [],
   "source": [
    "df['30DPD_default_social_circle']"
   ]
  },
  {
   "cell_type": "code",
   "execution_count": null,
   "id": "591307ba-0b63-4ec8-b1b6-64391672ad14",
   "metadata": {},
   "outputs": [],
   "source": [
    "# Creating a new column determining the proportion of the individual's social circle who defaulted after 60DPD.\n",
    "\n",
    "df['60DPD_default_social_circle']=df['DEF_60_CNT_SOCIAL_CIRCLE']/df['OBS_60_CNT_SOCIAL_CIRCLE']"
   ]
  },
  {
   "cell_type": "code",
   "execution_count": null,
   "id": "6ea368b5-294d-4c84-810c-239695753818",
   "metadata": {},
   "outputs": [],
   "source": [
    "df.drop(columns=['DEF_60_CNT_SOCIAL_CIRCLE','OBS_60_CNT_SOCIAL_CIRCLE'],inplace=True)"
   ]
  },
  {
   "cell_type": "code",
   "execution_count": null,
   "id": "cb6fb566-34a2-4e1c-85b7-00dcb029c3ec",
   "metadata": {},
   "outputs": [],
   "source": [
    "df['60DPD_default_social_circle'].fillna(value=0,inplace=True)"
   ]
  },
  {
   "cell_type": "code",
   "execution_count": null,
   "id": "556b97d6-5bdd-447e-b91d-a11397047f92",
   "metadata": {},
   "outputs": [],
   "source": [
    "df['60DPD_default_social_circle'] = round(df['60DPD_default_social_circle']*100,2)\n",
    "df['60DPD_default_social_circle']"
   ]
  },
  {
   "cell_type": "code",
   "execution_count": null,
   "id": "3ff17e0b-20fe-4a4e-a7b7-a249b69d4e33",
   "metadata": {},
   "outputs": [],
   "source": [
    "df.drop(columns=['AMT_REQ_CREDIT_BUREAU_HOUR','AMT_REQ_CREDIT_BUREAU_DAY',\n",
    "                'AMT_REQ_CREDIT_BUREAU_WEEK','AMT_REQ_CREDIT_BUREAU_MON',\n",
    "                'AMT_REQ_CREDIT_BUREAU_QRT','AMT_REQ_CREDIT_BUREAU_YEAR',\n",
    "                'WEEKDAY_APPR_PROCESS_START','HOUR_APPR_PROCESS_START'],inplace=True)"
   ]
  },
  {
   "cell_type": "code",
   "execution_count": null,
   "id": "436a040f-6f2c-4b85-8ad2-dc4ada798d07",
   "metadata": {},
   "outputs": [],
   "source": []
  },
  {
   "cell_type": "code",
   "execution_count": null,
   "id": "fdb0ccf3-d161-445e-869c-7dc0af502193",
   "metadata": {},
   "outputs": [],
   "source": []
  },
  {
   "cell_type": "markdown",
   "id": "8ba86872-7f81-462f-9d38-fb3abed016c5",
   "metadata": {},
   "source": [
    "### 8. Analysis"
   ]
  },
  {
   "cell_type": "code",
   "execution_count": null,
   "id": "2ac361a3-5d25-4179-b2c8-b96df5aeac70",
   "metadata": {},
   "outputs": [],
   "source": [
    "df['TARGET'].value_counts()"
   ]
  },
  {
   "cell_type": "code",
   "execution_count": null,
   "id": "96076ce4-571a-4612-a33f-63af9a77009c",
   "metadata": {},
   "outputs": [],
   "source": [
    "import plotly.graph_objects as go\n",
    "fig = go.Figure()\n",
    "fig = px.pie(df,names='TARGET', title='TARGET Variable - DEFAULTER Vs NONDEFAULTER',\n",
    "      height=450,width=600,template='plotly_white')\n",
    "fig.update_traces(hoverinfo='label+percent',textfont_size=13,\n",
    "                 textinfo='label+percent',pull=[0,0.2])\n",
    "fig.update_layout(font_size=10)\n",
    "fig.show()"
   ]
  },
  {
   "cell_type": "markdown",
   "id": "a72262be-56bd-43b3-824b-d806414ee3ad",
   "metadata": {},
   "source": [
    "Using a pie chart to identify the number of defaulters (TARGET = 1) and those who paid on time (TARGET = 0), it is evident that there is an imbalance between those who defaulted and those who did not."
   ]
  },
  {
   "cell_type": "code",
   "execution_count": null,
   "id": "961701f8-ae98-4b09-bec0-174ea598cd9c",
   "metadata": {},
   "outputs": [],
   "source": [
    "df['TARGET'].unique()"
   ]
  },
  {
   "cell_type": "code",
   "execution_count": null,
   "id": "0f4f7465-bc33-4d19-88cd-2d6a10aeb31a",
   "metadata": {},
   "outputs": [],
   "source": [
    "#Splitting the data in two \n",
    "df_1 = df[df['TARGET']==1]\n",
    "df_0 = df[df['TARGET']==0]"
   ]
  },
  {
   "cell_type": "code",
   "execution_count": null,
   "id": "70f2c748-ffbc-493a-88af-13d001e603c3",
   "metadata": {},
   "outputs": [],
   "source": []
  },
  {
   "cell_type": "markdown",
   "id": "5f208e0d-a329-4c18-8450-1fa0553f6097",
   "metadata": {},
   "source": [
    "### 8.1 Univariate Analysis of Categorical Variables"
   ]
  },
  {
   "cell_type": "code",
   "execution_count": null,
   "id": "1ee54be2-4ad4-44eb-9e72-5ba062c71d2d",
   "metadata": {},
   "outputs": [],
   "source": [
    "# function to count plot for categorical variables\n",
    "def cat_plot(col):\n",
    "    plt.style.use('ggplot')\n",
    "    sns.despine\n",
    "    fig,(ax1,ax2) = plt.subplots(1,2,figsize=(13,6))\n",
    "    sns.countplot(x=col, data=df_1,ax=ax1,palette='Set1')\n",
    "    ax1.set_ylabel('Total Count',fontweight=\"bold\")\n",
    "    ax1.set_xlabel(f'{col}', fontweight=\"bold\")\n",
    "    ax1.set_title(f'{col} disribution for Defaulters',fontsize=10)\n",
    "    ax1.set_xticklabels(ax1.get_xticklabels(), rotation=45, ha=\"right\")\n",
    "\n",
    "# Adding the normalized percentage for easier comparision between defaulter and non-defaulter\n",
    "    for p in ax1.patches:\n",
    "        ax1.annotate('{:.2f}%'.format((p.get_height()/len(df_1))*100), (p.get_x()+0.05, p.get_height()+50))\n",
    "        \n",
    "    sns.countplot(x=col, data=df_0,ax=ax2,palette='Set1')\n",
    "    ax2.set_ylabel('Total Count',fontweight=\"bold\")\n",
    "    ax2.set_xlabel(f'{col}', fontweight=\"bold\")\n",
    "    ax2.set_title(f'{col} distribution for NON_Defaulters',fontsize=10)    \n",
    "    ax2.set_xticklabels(ax2.get_xticklabels(), rotation=45, ha=\"right\")\n",
    "    \n",
    "  # Adding the normalized percentage for easier comparision between defaulter and non-defaulter\n",
    "    for p in ax2.patches:\n",
    "        ax2.annotate('{:.2f}%'.format((p.get_height()/len(df_0))*100), (p.get_x()+0.05, p.get_height()+50))\n",
    "    plt.subplots_adjust(wspace=0.2,hspace=.3) \n",
    "    plt.show()"
   ]
  },
  {
   "cell_type": "code",
   "execution_count": null,
   "id": "750e100c-a32f-4e6a-8c81-5aef4a611682",
   "metadata": {},
   "outputs": [],
   "source": [
    "cat_cols=df.select_dtypes(exclude='number').columns"
   ]
  },
  {
   "cell_type": "code",
   "execution_count": null,
   "id": "5ca2dfdd-8b35-4764-bd7f-bc44cbc758f5",
   "metadata": {},
   "outputs": [],
   "source": [
    "for col in cat_cols:\n",
    "    print(col, df[col].dtypes)"
   ]
  },
  {
   "cell_type": "code",
   "execution_count": null,
   "id": "c5172006-0436-4ffe-87f6-1d379461ae95",
   "metadata": {},
   "outputs": [],
   "source": [
    "cat_cols=cat_cols.drop(['OCCUPATION_TYPE','ORGANIZATION_TYPE'])"
   ]
  },
  {
   "cell_type": "code",
   "execution_count": null,
   "id": "bfd4a994-343f-4306-82c1-020c21ac7ade",
   "metadata": {
    "scrolled": true
   },
   "outputs": [],
   "source": [
    "for col in cat_cols:\n",
    "    cat_plot(col)"
   ]
  },
  {
   "cell_type": "code",
   "execution_count": null,
   "id": "203c2992-c393-47c6-8539-3efef105acc7",
   "metadata": {},
   "outputs": [],
   "source": [
    "from IPython.core.interactiveshell import InteractiveShell\n",
    "InteractiveShell.ast_node_interactivity = \"all\""
   ]
  },
  {
   "cell_type": "markdown",
   "id": "d2a6e81f-61da-454e-b744-468af9846d4a",
   "metadata": {},
   "source": [
    "Inferences:\n",
    "\n",
    "#### NAME_CONTRACT_TYPE :\n",
    "- Cash Loan contracts have a higher number of credit than revolving loan contracts (Defaulters).\n",
    "- Cash Loan contracts have a higher number of credit than revolving loan contracts (Non-Defaulters).\n",
    "- Count of females is more.\n",
    "\n",
    "#### CODE_GENDER :\n",
    "- Females account for 67% of the non-defaulters and 55% of the defaulters, respectively. We may assume that because more women seek loans than men, there are also more women who fail on their payments. However, the default rate of FEMALES is much lower than that of their MALE counterparts.\n",
    "\n",
    "#### FLAG_OWN_CAR :\n",
    "- Automobile owners make up 65.7% of the non-defaulters and 69.5% of the defaulters. While persons with vehicles are more likely to default, the explanation may be that there are more people without cars. Considering the percentages in both figures, we can deduce that the default rate of automobile owners is lower than that of carless individuals.\n",
    "\n",
    "#### NAME_TYPE_SUIT :\n",
    "- The majority of loan applicants were accompanied throughout the application process. And with a few customers, a family member was present for both Defaulters and Non-Defaulters, but the presence of a family member during loan application had no impact on default. Moreover, both populations have identical proportions.\n",
    "\n",
    "#### NAME_INCOME_TYPE :\n",
    "- State Servant and Businessman are at minimal risk of default.\n",
    "- Most of the loans are distributed to working-class people. Additionally, we see that the working class contributes 51% to non-defaulters but 61% to defaulters. Clearly, the likelihood of default is greater for them.\n",
    "\n",
    "#### NAME_EDUCATION_TYPE :\n",
    "- Except for those with a higher level of education, who are less likely to fail, and those with a secondary level of education, who are more likely to default, almost all Education groups are equally likely to default.\n",
    "\n",
    "#### NAME_FAMILY_STATUS :\n",
    "- Married Clients seem to apply most for the loan compared to others for both Defaulters and Non-Defaulters.\n",
    "- The graph, however, reveals that Single/non-Married individuals contribute 14.5% to Non-Defaulters and 18% to Defaulters. Therefore, there is a greater danger associated with them.\n",
    "\n",
    "#### NAME_HOUSING_TYPE :\n",
    "- It is evident from the graph that homeowners/tenants are more likely to seek loans. People who live with their parents tend to default more often than others. Due to their parents living with them, their living expenditures might be greater.\n",
    "\n",
    "#### NAME_INCOME_CAT :\n",
    "- The Very High Income category defaults less often. They provide 12.4% to the overall number of defaulters but 15.6% to the number of Non-Defaulters.\n",
    "\n",
    "#### AMT_CREDIT_CAT :\n",
    "- The Very High Credit category defaults less often, the greatest risk is related to those who belong to the Low to Medium Credit amount category.\n",
    "\n",
    "#### AMT_GOODS_PRICE_CAT :\n",
    "- The High & Very High Good Price category defaults less often, the greatest risk is related to those who belong to the Low and Very Low Good price category.\n",
    "\n",
    "#### DAYS_BIRTH_CAT :\n",
    "- We see that those between the ages of 20 and 40 tend to default more often. Therefore, they are the riskiest borrowers. Beginning at age 40, individuals tend to default less often as their age increases. One of the reasons might be because people find employment around that age, and their income improves with age."
   ]
  },
  {
   "cell_type": "code",
   "execution_count": null,
   "id": "50344cc9-da37-4313-933a-28828570fabf",
   "metadata": {},
   "outputs": [],
   "source": [
    "plt.figure(figsize=(10,8))\n",
    "\n",
    "plt.subplot(211)\n",
    "df_1['30DPD_default_social_circle'].plot.hist(bins=np.arange(0,100,5),color=\"r\")\n",
    "plt.title('Distribution of 30DPD_default_social_circle for Defaulters',fontsize=12)\n",
    "plt.xlabel('30DPD_default_social_circle')\n",
    "plt.ylabel('TOTAL COUNT')\n",
    "\n",
    "plt.subplot(212)\n",
    "df_0['30DPD_default_social_circle'].plot.hist(bins=np.arange(0,100,5),color='c')\n",
    "plt.title('Distribution of 30DPD_default_social_circle for Non-Defaulters',fontsize=12)\n",
    "plt.xlabel('30DPD_default_social_circle')\n",
    "plt.ylabel('TOTAL COUNT')  \n",
    "\n",
    "plt.subplots_adjust(hspace=.3)\n",
    "\n",
    "plt.show();"
   ]
  },
  {
   "cell_type": "code",
   "execution_count": null,
   "id": "a67a5648-fd05-4d33-b09f-897fe32153b8",
   "metadata": {},
   "outputs": [],
   "source": [
    "plt.figure(figsize=(10,8))\n",
    "\n",
    "plt.subplot(211)\n",
    "df_1['60DPD_default_social_circle'].plot.hist(bins=np.arange(0,100,5),color='r')\n",
    "plt.title('Distribution of 60DPD_default_social_circle for Defaulters',fontsize=12)\n",
    "plt.xlabel('60DPD_default_social_circle')\n",
    "plt.ylabel('TOTAL COUNT')\n",
    "\n",
    "plt.subplot(212)\n",
    "df_0['60DPD_default_social_circle'].plot.hist(bins=np.arange(0,100,5),color='c')\n",
    "plt.title('Distribution of 60DPD_default_social_circle for Non-Defaulters',fontsize=12)\n",
    "plt.xlabel('60DPD_default_social_circle')\n",
    "plt.ylabel('TOTAL COUNT')  \n",
    "\n",
    "plt.subplots_adjust(hspace=.3)\n",
    "\n",
    "plt.show();"
   ]
  },
  {
   "cell_type": "code",
   "execution_count": null,
   "id": "e1d32e3f-77d1-4735-8c45-84c1257b4ba4",
   "metadata": {},
   "outputs": [],
   "source": []
  },
  {
   "cell_type": "code",
   "execution_count": null,
   "id": "3f57a773-b6ea-4111-b87f-10b8b23fe9dd",
   "metadata": {},
   "outputs": [],
   "source": [
    "# Convert the 'TARGET' column to strings\n",
    "df_1['TARGET'] = df_1['TARGET'].astype(str)\n",
    "\n",
    "plt.figure(figsize=(10,8))\n",
    "\n",
    "sns.countplot(data=df_1, y='OCCUPATION_TYPE', hue='TARGET',\n",
    "              order=df_1['OCCUPATION_TYPE'].value_counts(ascending=False).index, palette='Set1')\n",
    "\n",
    "plt.title('OCCUPATION_TYPE for DEFAULTERS', fontsize=12)\n",
    "plt.xticks(rotation=45, ha=\"right\", fontsize=10)\n",
    "plt.legend(loc='lower right')\n",
    "\n",
    "plt.show();\n"
   ]
  },
  {
   "cell_type": "code",
   "execution_count": null,
   "id": "05100553-7fe1-4535-8679-b6055cbbf7e2",
   "metadata": {},
   "outputs": [],
   "source": [
    "df_0['TARGET'] = df_0['TARGET'].astype(str)\n",
    "\n",
    "plt.figure(figsize=(10,8))\n",
    "\n",
    "sns.countplot(data=df_0, y='OCCUPATION_TYPE', hue='TARGET',\n",
    "              order=df_0['OCCUPATION_TYPE'].value_counts().index, palette='cool')\n",
    "\n",
    "plt.title('OCCUPATION_TYPE for NON_DEFAULTERS', fontsize=12)\n",
    "plt.xticks(rotation=360, ha=\"right\")\n",
    "plt.yticks(fontsize=10)\n",
    "plt.legend(loc='lower right')\n",
    "\n",
    "plt.show();"
   ]
  },
  {
   "cell_type": "code",
   "execution_count": null,
   "id": "931d0ee1-6a27-4551-ac56-6f59c2e19b71",
   "metadata": {},
   "outputs": [],
   "source": [
    "plt.figure(figsize=(20,20))\n",
    "\n",
    "sns.countplot(data=df_1,y='ORGANIZATION_TYPE',hue='TARGET',\n",
    "             order=df_1['ORGANIZATION_TYPE'].value_counts().index,palette='Set1')\n",
    "plt.title('ORGANIZATION_TYPE for DEFAULTERS',fontsize=20)\n",
    "plt.xticks( rotation=360, ha=\"right\",fontsize=15)\n",
    "plt.yticks(fontsize=15)\n",
    "\n",
    "plt.show();"
   ]
  },
  {
   "cell_type": "code",
   "execution_count": null,
   "id": "4a876c4f-0369-472c-a954-4bd6a7f77373",
   "metadata": {},
   "outputs": [],
   "source": [
    "plt.figure(figsize=(20,20))\n",
    "\n",
    "sns.countplot(data=df_0,y='ORGANIZATION_TYPE',hue='TARGET',\n",
    "             order=df_0['ORGANIZATION_TYPE'].value_counts().index,palette='cool')\n",
    "plt.title('OCCUPATION_TYPE for NON_DEFAULTERS',fontsize=20)\n",
    "plt.xticks( rotation=360, ha=\"right\",fontsize=15)\n",
    "plt.yticks( fontsize=15)\n",
    "\n",
    "plt.show();"
   ]
  },
  {
   "cell_type": "markdown",
   "id": "3a06ed90-de92-4cae-9b9a-fbcb2d352df5",
   "metadata": {},
   "source": [
    "The majority of credit-seeking clients are Business entity Type 3, Self-employed, Other, Medicine, and Government organisations.\n",
    "Fewer customers come from Industry types 8, 6, 10, religion and trade types 5, 4"
   ]
  },
  {
   "cell_type": "code",
   "execution_count": null,
   "id": "18794a86-b284-489c-b76d-6f14c1a9d714",
   "metadata": {},
   "outputs": [],
   "source": []
  },
  {
   "cell_type": "markdown",
   "id": "629afc9c-cd47-4485-8b79-a850ac652581",
   "metadata": {},
   "source": [
    "### 8.2 Univariate Analysis of Numerical Variables"
   ]
  },
  {
   "cell_type": "code",
   "execution_count": null,
   "id": "478070e7-1861-4549-87a3-1d59eaee7f59",
   "metadata": {},
   "outputs": [],
   "source": [
    "# function to count plot for numerical variables\n",
    "def num_plot(col):\n",
    "    plt.style.use('ggplot')\n",
    "    sns.despine\n",
    "    fig,(ax1,ax2) = plt.subplots(1,2,figsize=(14,6))\n",
    "    sns.distplot(x=df_1[col],ax=ax1,kde=True,color='green')\n",
    "    ax1.set_ylabel('Total Count',fontweight=\"bold\")\n",
    "    ax1.set_xlabel(f'{col}', fontweight=\"bold\")\n",
    "    ax1.set_title(f'{col} disribution for Defaulters',fontsize=14)\n",
    "    ax1.set_xscale('log')\n",
    "   \n",
    "    sns.distplot(x=df_0[col],ax=ax2,kde=True,color='b')\n",
    "    ax2.set_ylabel('Total Count',fontweight=\"bold\")\n",
    "    ax2.set_xlabel(f'{col}', fontweight=\"bold\")\n",
    "    ax2.set_title(f'{col} distribution for NON_Defaulters',fontsize=14)  \n",
    "    ax2.set_xscale('log')\n",
    "\n",
    "    plt.subplots_adjust(wspace=0.2) \n",
    "    plt.show()"
   ]
  },
  {
   "cell_type": "code",
   "execution_count": null,
   "id": "9f301dd8-01d4-40f0-bc8f-f998eddbf4cd",
   "metadata": {},
   "outputs": [],
   "source": [
    "num_plot('AMT_GOODS_PRICE')"
   ]
  },
  {
   "cell_type": "code",
   "execution_count": null,
   "id": "032952ce-2a09-401d-a0cb-720a1b145fce",
   "metadata": {},
   "outputs": [],
   "source": [
    "num_plot('AMT_ANNUITY')"
   ]
  },
  {
   "cell_type": "code",
   "execution_count": null,
   "id": "a7ec55e1-ae5b-4163-a948-0c4bc62e5f4a",
   "metadata": {},
   "outputs": [],
   "source": [
    "num_plot('AMT_CREDIT')"
   ]
  },
  {
   "cell_type": "markdown",
   "id": "2741b860-f432-4782-ad6e-ad8ed3ae4e6f",
   "metadata": {},
   "source": [
    "Dist. plot highlights the curve shape which is wider for Defaulters in comparison to Non-Defaulters which is narrower with well-defined edges.\n",
    "\n",
    "People with Payment difficulties has largely staggered income as compared to people who dosen't.\n",
    "\n",
    "Dist. plot clearly shows that the shape in Income total, Annuity, Credit and Good Price is similar for Target 0 and similar for Target 1"
   ]
  },
  {
   "cell_type": "code",
   "execution_count": null,
   "id": "4a0e71d7-6717-456b-a9cd-e65ac3e5739e",
   "metadata": {},
   "outputs": [],
   "source": [
    "num_plot('CREDIT_INCOME_RATIO')"
   ]
  },
  {
   "cell_type": "markdown",
   "id": "262d1b52-95f5-4608-b9ba-126c511d5ac5",
   "metadata": {},
   "source": [
    "CREDIT_INCOME_RATIO = CREDIT_AMOUNT/AMT_INCOME_TOTAL\n",
    "\n",
    "Although there does not seem to be an obvious distinction between the group that defaulted and the group that did not,\n",
    "we can see that when the CREDIT INCOME RATIO is more than 50, individuals default."
   ]
  },
  {
   "cell_type": "code",
   "execution_count": null,
   "id": "45222872-4328-428f-9607-d6435242b9dd",
   "metadata": {},
   "outputs": [],
   "source": []
  },
  {
   "cell_type": "markdown",
   "id": "694c420f-9479-4c5a-8a41-5fd34732a32c",
   "metadata": {},
   "source": [
    "### 9.Bivariate Analysis"
   ]
  },
  {
   "cell_type": "markdown",
   "id": "0bbaf9c6-d848-4c50-8ec7-34d4089fc0d3",
   "metadata": {},
   "source": [
    "9.1 Bivariate Analysis of Numerical Columns"
   ]
  },
  {
   "cell_type": "code",
   "execution_count": null,
   "id": "1bc74e89-c450-4453-b8b1-4edf040ccff4",
   "metadata": {},
   "outputs": [],
   "source": [
    "def bivarnum_plot(col1,col2):\n",
    "    fig,(ax1,ax2) = plt.subplots(1,2,figsize=(14,7))\n",
    "    sns.scatterplot(data=df_1,x=col1,y=col2,ax=ax1,)\n",
    "    ax1.set_xlabel(col1)\n",
    "    ax1.set_ylabel(col2)\n",
    "    ax1.set_title(f'Scatter plot of {col1} vs {col2} for Defaulters',fontsize=12)\n",
    "    \n",
    "    sns.scatterplot(data=df_0,x=col1,y=col2,ax=ax2)\n",
    "    ax2.set_xlabel(col1)\n",
    "    ax2.set_ylabel(col2)\n",
    "    ax2.set_title(f'Scatter plot of {col1} vs {col2} for Non-Defaulters',fontsize=12)\n",
    "    plt.show()"
   ]
  },
  {
   "cell_type": "code",
   "execution_count": null,
   "id": "0c9e7ddb-ab14-44d4-be9c-f909e900e7cc",
   "metadata": {},
   "outputs": [],
   "source": [
    "bivarnum_plot('AMT_ANNUITY','AMT_CREDIT')"
   ]
  },
  {
   "cell_type": "code",
   "execution_count": null,
   "id": "67afbe60-fbb8-4b3d-b0e8-a78edb1bfcba",
   "metadata": {},
   "outputs": [],
   "source": [
    "bivarnum_plot('AMT_GOODS_PRICE','AMT_CREDIT')"
   ]
  },
  {
   "cell_type": "markdown",
   "id": "2ff63686-9401-4d20-8345-b900c613a8c6",
   "metadata": {},
   "source": [
    "The scatter plots reveal that persons who have not defaulted on their loans have a steeper slope than those who have had payment troubles. This means that for each unit rise in annuity and good price for which the loan is taken, the amount of credit taken by a Non-Defauter would grow higher than the amount of credit taken by a Defaulter."
   ]
  },
  {
   "cell_type": "code",
   "execution_count": null,
   "id": "b76f766f-8b83-4d9c-ab0a-19eb4fe8812e",
   "metadata": {},
   "outputs": [],
   "source": [
    "bivarnum_plot('AMT_CREDIT','CNT_CHILDREN')"
   ]
  },
  {
   "cell_type": "markdown",
   "id": "2c82e83b-5cf0-4ed2-abe0-ae44ca492a45",
   "metadata": {},
   "source": [
    "We can observe that the density in the bottom left corner of both cases is comparable, meaning individuals are equally likely to default if both the number of children and the AMT CREDIT are little. We may note that households with more children and bigger AMT CREDIT defaults occur less often."
   ]
  },
  {
   "cell_type": "code",
   "execution_count": null,
   "id": "d6acb197-75e0-4e57-aeca-74aa7e760dc4",
   "metadata": {},
   "outputs": [],
   "source": []
  },
  {
   "cell_type": "markdown",
   "id": "5d8e898f-5893-45f6-b81e-8a5897a6cfa6",
   "metadata": {},
   "source": [
    "#### Bivariate Analysis of Categorical and Numerical Columns¶"
   ]
  },
  {
   "cell_type": "code",
   "execution_count": null,
   "id": "89ad7a75-690f-4268-bf04-1ff6b747aa41",
   "metadata": {},
   "outputs": [],
   "source": [
    "sns.catplot(data=df_0,x='NAME_EDUCATION_TYPE',y='AMT_CREDIT',hue='NAME_FAMILY_STATUS',\n",
    "          palette='muted', kind='bar',height=7,aspect=3,legend=False)\n",
    "plt.title('Credit Amount vs Education Status For Non-Defaulters',fontsize=20)\n",
    "plt.xlabel('NAME_EDUCATION_TYPE',fontsize=20)\n",
    "plt.ylabel('AMT_CREDIT',fontsize=20)\n",
    "plt.xticks(fontsize=15)\n",
    "plt.yticks(fontsize=15)\n",
    "plt.legend(loc='best',fontsize=15)\n",
    "plt.show();"
   ]
  },
  {
   "cell_type": "markdown",
   "id": "665a8a40-6957-4c92-b697-c790df54d60d",
   "metadata": {},
   "source": [
    "Conclusions to be drawn from the above graph  for Non-Defaulters\n",
    "\n",
    "Clients who are married are having greater amount of Credit amout to clear, except from those who did pursue  lower secondary and academic degrees\n",
    "\n",
    "Customers with a academic degree have bigger credit limits, with the Civil Marriage category being the highest.\n",
    "\n",
    "Lower-educated consumers tend to have lower credit limits, with widows being the lowest."
   ]
  },
  {
   "cell_type": "code",
   "execution_count": null,
   "id": "d490beee-a581-4a10-856c-5d58f28e0dc6",
   "metadata": {},
   "outputs": [],
   "source": [
    "sns.catplot(data=df_1,x='NAME_EDUCATION_TYPE',y='AMT_CREDIT',hue='NAME_FAMILY_STATUS',\n",
    "          palette='muted', kind='bar',height=7,aspect=3,legend=False)\n",
    "plt.title('Credit Amount vs Education Status For Defaulters',fontsize=20)\n",
    "plt.xlabel('NAME_EDUCATION_TYPE',fontsize=20)\n",
    "plt.ylabel('AMT_CREDIT',fontsize=20)\n",
    "plt.xticks(fontsize=15)\n",
    "plt.yticks(fontsize=15)\n",
    "plt.legend(loc='best',fontsize=15)\n",
    "plt.show();"
   ]
  },
  {
   "cell_type": "markdown",
   "id": "b073689c-07f4-4ecb-b4fd-099130eedb7d",
   "metadata": {},
   "source": [
    "Conclusions to be drawn from the above graph for Defaulters\n",
    "\n",
    "Customers with lower education have a lower average credit limit.\n",
    "Customers with an academic degree who are married have a greater credit limit and a higher default rate.\n",
    "Across all education segments, married customers have a higher credit amount.\n",
    "Single and Married are the only 2 family types present in academic degree"
   ]
  },
  {
   "cell_type": "code",
   "execution_count": null,
   "id": "0af28479-7c06-4da9-8179-6ff3778bf752",
   "metadata": {},
   "outputs": [],
   "source": []
  },
  {
   "cell_type": "code",
   "execution_count": null,
   "id": "9b702272-c6e7-460c-a863-3e5552fbc584",
   "metadata": {},
   "outputs": [],
   "source": [
    "plt.figure(figsize=(30,12)) \n",
    "plt.yscale('log')                     \n",
    "\n",
    "sns.boxplot(data =df_0, x='NAME_EDUCATION_TYPE',y='AMT_INCOME_TOTAL',\n",
    "            hue ='NAME_FAMILY_STATUS',orient='v',palette='Set2')\n",
    "plt.title('Income Amount vs Education Statusvs FAMILY_STATUS for Non-Defaulters',fontsize= 30)\n",
    "plt.xlabel(\"NAME_EDUCATION_TYPE\",fontsize= 20, fontweight=\"bold\")\n",
    "plt.ylabel(\"AMT_INCOME_TOTAL\",fontsize= 20, fontweight=\"bold\")\n",
    "plt.xticks(rotation=45, fontsize=20)\n",
    "plt.yticks(rotation=360, fontsize=20)\n",
    "plt.legend( loc = 'best',fontsize=15)                                              \n",
    "\n",
    "plt.show();"
   ]
  },
  {
   "cell_type": "markdown",
   "id": "4d2ac0a6-02ee-44b2-93b6-bf381cd1dd1f",
   "metadata": {},
   "source": [
    "The clients whose marital status is separated have the highest mean income compared to others.\n",
    "\n",
    "Clients with a Higher Academic degree are having the greatest average salary.\n",
    "\n",
    "Clients who are married have widely varying income statistics.\n",
    "\n",
    "Lower secondary civil marriage family incomes are lower than those of others.\n",
    "\n",
    "Clients with a Lower Secondary degree are having the lowest average salary.\n",
    "\n",
    "Widow Clients with an Academic degree have a small number of outliers and lack the First and Third Quartiles. In addition,\n",
    "there are considerably fewer outliers among clients with academic degrees than among those with other levels of education."
   ]
  },
  {
   "cell_type": "code",
   "execution_count": null,
   "id": "9f7334f5-c479-4849-b336-0152cdbc46c5",
   "metadata": {},
   "outputs": [],
   "source": []
  },
  {
   "cell_type": "code",
   "execution_count": null,
   "id": "0a6c2abd-9686-4936-903a-028aa38bcfe1",
   "metadata": {},
   "outputs": [],
   "source": []
  },
  {
   "cell_type": "code",
   "execution_count": null,
   "id": "8d48f18a-071a-4e37-b0ee-c99e21e3a784",
   "metadata": {},
   "outputs": [],
   "source": [
    "plt.figure(figsize=(30,12)) \n",
    "plt.yscale('log')                     \n",
    "\n",
    "sns.boxplot(data =df_1, x='NAME_EDUCATION_TYPE',y='AMT_INCOME_TOTAL',\n",
    "            hue ='NAME_FAMILY_STATUS',orient='v',palette='Set2')\n",
    "plt.title('Income Amount vs Education Status vs FAMILY_STATUS for Defaulters',fontsize= 30)\n",
    "plt.xlabel(\"NAME_EDUCATION_TYPE\",fontsize= 20, fontweight=\"bold\")\n",
    "plt.ylabel(\"AMT_INCOME_TOTAL\",fontsize= 20, fontweight=\"bold\")\n",
    "plt.xticks(rotation=45, fontsize=20)\n",
    "plt.yticks(rotation=360, fontsize=20)\n",
    "plt.legend( loc = 'best',fontsize=15) \n",
    "\n",
    "plt.show();"
   ]
  },
  {
   "cell_type": "markdown",
   "id": "4d476d9f-bae4-4031-8720-b3ec44690145",
   "metadata": {},
   "source": [
    "Similar to Target0, based on the above boxplot for Education type 'Higher education', the income amount is the same regardless of family status\n",
    "\n",
    "Clients who default on their loans have comparatively lower income than Non-defaulters.\n",
    "\n",
    "Fewer outliers for those who own an Academic degree, yet their salary is rather more than those with a Higher education."
   ]
  },
  {
   "cell_type": "code",
   "execution_count": null,
   "id": "1a7452e2-30cd-4093-9b5e-eba1c65a3497",
   "metadata": {},
   "outputs": [],
   "source": []
  },
  {
   "cell_type": "code",
   "execution_count": null,
   "id": "90014849-7c19-4732-9929-6a67a590856e",
   "metadata": {},
   "outputs": [],
   "source": [
    "plt.figure(figsize=(30,12)) \n",
    "plt.yscale('log')                     \n",
    "\n",
    "sns.boxplot(data =df_0, x='NAME_EDUCATION_TYPE',y='AMT_CREDIT',\n",
    "            hue ='NAME_FAMILY_STATUS',orient='v',palette='Set2')\n",
    "plt.title('Credit Amount vs Education Status vs FAMILY_STATUS for Non-Defaulters',fontsize= 30)\n",
    "plt.xlabel(\"NAME_EDUCATION_TYPE\",fontsize= 20, fontweight=\"bold\")\n",
    "plt.ylabel(\"AMT_CREDIT\",fontsize= 20, fontweight=\"bold\")\n",
    "plt.xticks(rotation=45, fontsize=20)\n",
    "plt.yticks(rotation=360, fontsize=20)\n",
    "plt.legend( loc = 'best',fontsize=15)                                              \n",
    "\n",
    "plt.show();"
   ]
  },
  {
   "cell_type": "markdown",
   "id": "bce1edc2-f291-4b95-8e44-dcb696bd80a3",
   "metadata": {},
   "source": [
    "There are more outliers among clients with a higher degree and family statuses of marriage,single and civil marriage while clients who are having Academic degree are having fewer outliers.\n",
    "\n",
    "Clients who are married tend to take bigger higher credit loans.\n",
    "\n",
    "Widows and clients with an academic degree prefer to take out higher credit loans.\n",
    "\n",
    "Clients who completed their Higher education tend to take greater credit loans."
   ]
  },
  {
   "cell_type": "code",
   "execution_count": null,
   "id": "caada20c-b9be-4b65-a3b9-c5a27651de18",
   "metadata": {},
   "outputs": [],
   "source": []
  },
  {
   "cell_type": "code",
   "execution_count": null,
   "id": "3dba9647-d175-430a-893f-30fe7b05df59",
   "metadata": {},
   "outputs": [],
   "source": []
  },
  {
   "cell_type": "code",
   "execution_count": null,
   "id": "f040ef00-6417-4a92-b865-7bb0e62eb44d",
   "metadata": {},
   "outputs": [],
   "source": [
    "plt.figure(figsize=(30,12)) \n",
    "plt.yscale('log')                     \n",
    "\n",
    "sns.boxplot(data =df_1, x='NAME_EDUCATION_TYPE',y='AMT_CREDIT',\n",
    "            hue ='NAME_FAMILY_STATUS',orient='v',palette='Set2')\n",
    "plt.title('Credit Amount vs Education Status vs FAMILY_STATUS for Defaulters',fontsize= 30)\n",
    "plt.xlabel(\"NAME_EDUCATION_TYPE\",fontsize= 20, fontweight=\"bold\")\n",
    "plt.ylabel(\"AMT_CREDIT\",fontsize= 20, fontweight=\"bold\")\n",
    "plt.xticks(rotation=45, fontsize=20)\n",
    "plt.yticks(rotation=360, fontsize=20)\n",
    "plt.legend( loc = 'best',fontsize=15)                                              \n",
    "\n",
    "\n",
    "plt.show();"
   ]
  },
  {
   "cell_type": "markdown",
   "id": "33af8ce1-91f2-4ea7-a8f1-ba412cc36f92",
   "metadata": {},
   "source": [
    "The majority of outliers belong to the Education types Higher education and Secondary.\n",
    "\n",
    "Clients who are having Academic degree and involved in a civil marriage are taking greater amount of credit loan\n",
    "\n",
    "According to the boxplot, customers who are married have the highest mean credit loan amount.\n",
    "\n",
    "Clients who are  married  with academic degree applied for a larger credit loan. And is free of outliers and Single clients with academic degrees have a very slim boxplot with no outliers\n",
    "\n",
    "Clients who completed their higher educaion tend to have the habit of taking greater amount of credit loans."
   ]
  },
  {
   "cell_type": "code",
   "execution_count": null,
   "id": "0de8708d-13a8-407c-a8c4-663052de5f66",
   "metadata": {},
   "outputs": [],
   "source": []
  },
  {
   "cell_type": "code",
   "execution_count": null,
   "id": "865b5444-e156-4fdb-8375-90a4571312bf",
   "metadata": {},
   "outputs": [],
   "source": []
  },
  {
   "cell_type": "code",
   "execution_count": null,
   "id": "c53f97c4-9941-48f8-9a09-69ec789caa8f",
   "metadata": {},
   "outputs": [],
   "source": [
    "plt.figure(figsize=(30,12)) \n",
    "plt.yscale('log')                     \n",
    "\n",
    "sns.boxplot(data =df_0, x='NAME_EDUCATION_TYPE',y='AMT_INCOME_TOTAL',\n",
    "            hue ='DAYS_BIRTH_CAT',orient='v',palette='Set2')\n",
    "plt.title('Income amount vs Education Status vs Age for Non-Defaulters',fontsize= 30)\n",
    "plt.xlabel(\"NAME_EDUCATION_TYPE\",fontsize= 20, fontweight=\"bold\")\n",
    "plt.ylabel(\"AMT_INCOME_TOTAL\",fontsize= 20, fontweight=\"bold\")\n",
    "plt.xticks(rotation=45, fontsize=20)\n",
    "plt.yticks(rotation=360, fontsize=20)\n",
    "plt.legend( loc = 'best',fontsize=15)                                              \n",
    "\n",
    "plt.show();"
   ]
  },
  {
   "cell_type": "markdown",
   "id": "fd9252f3-cacf-4141-a2c4-f2f07740f107",
   "metadata": {},
   "source": [
    "Clients between the ages of 41-50 seem to be having the highest mean of income compared to others.\n",
    "\n",
    "Clients between the ages of 61-70 seem to be having the lowest mean of income compared to others."
   ]
  },
  {
   "cell_type": "code",
   "execution_count": null,
   "id": "3abe0e9c-523d-4206-bba4-1d507bb972bf",
   "metadata": {},
   "outputs": [],
   "source": []
  },
  {
   "cell_type": "code",
   "execution_count": null,
   "id": "f6f2b89b-c956-4528-b7e7-a8dd16f83939",
   "metadata": {},
   "outputs": [],
   "source": [
    "plt.figure(figsize=(30,12)) \n",
    "plt.yscale('log')                     \n",
    "\n",
    "sns.boxplot(data =df_1, x='NAME_EDUCATION_TYPE',y='AMT_INCOME_TOTAL',\n",
    "            hue ='DAYS_BIRTH_CAT',orient='v',palette='Set2')\n",
    "plt.title('Income amount vs Education Status vs Age for Defaulters',fontsize= 30)\n",
    "plt.xlabel(\"NAME_EDUCATION_TYPE\",fontsize= 20, fontweight=\"bold\")\n",
    "plt.ylabel(\"AMT_INCOME_TOTAL\",fontsize= 20, fontweight=\"bold\")\n",
    "plt.xticks(rotation=45, fontsize=20)\n",
    "plt.yticks(rotation=360, fontsize=20)\n",
    "plt.legend( loc = 'best',fontsize=15)                                              \n",
    "plt.show();"
   ]
  },
  {
   "cell_type": "markdown",
   "id": "ab445613-c057-4e75-b1cd-16554775eff5",
   "metadata": {},
   "source": [
    "Clients who fail on their loans often have a lower income than those who have non-payment issues.\n",
    "\n",
    "For Defaulters, Clients who are having Academic degree and ages between 31-40 are having the highestmean of income"
   ]
  },
  {
   "cell_type": "code",
   "execution_count": null,
   "id": "6ac909ea-a534-4c4a-a212-e591ec97fed9",
   "metadata": {},
   "outputs": [],
   "source": [
    "pd.pivot_table(data=df,index=['CODE_GENDER','AMT_INCOME_TOTAL_CAT'],\n",
    "              columns=['NAME_EDUCATION_TYPE'],values='TARGET',aggfunc=np.mean)"
   ]
  },
  {
   "cell_type": "markdown",
   "id": "42645ac5-b3ef-4d8f-9831-070e0c96b220",
   "metadata": {},
   "source": [
    "Male Clients with Lower Secondary Education who earn a very low to moderate income have a high chance of default.\n",
    "\n",
    "Male Clients with Secondary Education who earn a very low to moderate income have a high chance of default.\n",
    "\n",
    "Customers who are male, have an incomplete education, and earn very low salaries are at a significant risk of default.\n",
    "\n",
    "Male Clients with a Academic degree do not fail on their loans.\n",
    "Women with an academic degree and a high income have a greater likelihood of defaulting on their loans."
   ]
  },
  {
   "cell_type": "code",
   "execution_count": null,
   "id": "269d73a6-b5e1-4a1c-826e-0557359df815",
   "metadata": {},
   "outputs": [],
   "source": []
  },
  {
   "cell_type": "markdown",
   "id": "468c0262-ae5b-422d-b133-a62fbd0acc47",
   "metadata": {},
   "source": [
    "### 10. Correlation"
   ]
  },
  {
   "cell_type": "code",
   "execution_count": null,
   "id": "22a161c1-6f0e-40f9-b77e-88d3f5f1a11e",
   "metadata": {},
   "outputs": [],
   "source": [
    "num_cols = df.select_dtypes('number')\n",
    "num_cols.columns"
   ]
  },
  {
   "cell_type": "code",
   "execution_count": null,
   "id": "5310536c-6c04-4a76-8ff2-76fb0fa43a42",
   "metadata": {},
   "outputs": [],
   "source": [
    "corr1 = df_1.iloc[0:,2:]\n",
    "corr0 = df_0.iloc[0:,2:]\n",
    "corr1.drop(columns=['FLAG_MOBIL','FLAG_EMAIL'],inplace=True)\n",
    "corr0.drop(columns=['FLAG_MOBIL','FLAG_EMAIL'],inplace=True)"
   ]
  },
  {
   "cell_type": "code",
   "execution_count": null,
   "id": "da8f0ea7-b36d-45da-ba5c-4d9e194a1227",
   "metadata": {},
   "outputs": [],
   "source": [
    "corr1 = corr1.select_dtypes(include = 'number')"
   ]
  },
  {
   "cell_type": "code",
   "execution_count": null,
   "id": "62b49e90-f292-43a5-9f92-c6ce036b2efc",
   "metadata": {},
   "outputs": [],
   "source": [
    "corr0 = corr0.select_dtypes(include = 'number')"
   ]
  },
  {
   "cell_type": "code",
   "execution_count": null,
   "id": "7597ec32-c7e9-49fb-96c2-a22013699c53",
   "metadata": {
    "scrolled": true
   },
   "outputs": [],
   "source": [
    "# Create mask for upper triangle\n",
    "mask = np.zeros_like(corr0.corr())\n",
    "triangle_indices = np.triu_indices_from(mask)\n",
    "mask[triangle_indices] = True\n",
    "\n",
    "plt.figure(figsize=(16, 12))\n",
    "sns.set_style('white')\n",
    "\n",
    "# Adjust the font size and annotation settings\n",
    "sns.heatmap(corr0.corr().round(2), mask=mask, annot=True, fmt=\".2f\", cmap='summer', annot_kws={'size':25})\n",
    "plt.title('Correlation for Non-Defaulters (Target 0)', fontsize=20)\n",
    "plt.xticks(fontsize=12)\n",
    "plt.yticks(fontsize=12)\n",
    "\n",
    "plt.show();"
   ]
  },
  {
   "cell_type": "markdown",
   "id": "1399b1cf-a223-48fc-9591-5058448a2fe9",
   "metadata": {},
   "source": [
    "##### Observation:"
   ]
  },
  {
   "cell_type": "markdown",
   "id": "f3e6c065-6d96-4b3f-94f9-aa06a38b4b2e",
   "metadata": {},
   "source": [
    "- AMT_CREDIT, AMT_ANNUITY, AMT_INCOME_TOTAL and AMT_GOODS_PRICE are strongly related.\n",
    "\n",
    "- CREDIT_INCOME_RATIO increases with increase in AMT_CREDIT and AMT_GOODS_PRICE, decreases with increase in AMT_INCOME_TOTAL.\n",
    "\n",
    "- Dense population(REGION_POPULATION_RELATIVE) indicates a quality grade(REGION_RATING_CLIENT)\n",
    "\n",
    "- Those residing in prime locations(REGION_RATING_CLIENT) earn higher salaries(AMT_INCOME_TOTAL) comparing to people who dosen't.\n",
    "\n",
    "- Individuals who have defaulted on a 30-day payment are also likely to default on a 60-day payment.\n",
    "\n",
    "- Elderly individuals have higher credit to income ratios.\n",
    "\n",
    "- Credit amounts are greater in densely populated regions.\n",
    "\n",
    "- Clients have fewer children in densely crowded areas."
   ]
  },
  {
   "cell_type": "code",
   "execution_count": null,
   "id": "ec54edec-bd07-46b8-a095-2aee31d4027d",
   "metadata": {},
   "outputs": [],
   "source": []
  },
  {
   "cell_type": "code",
   "execution_count": null,
   "id": "2100eb6c-42c7-465c-9b6e-c3fcbf185f04",
   "metadata": {},
   "outputs": [],
   "source": [
    "# Create mask for upper triangle\n",
    "mask = np.zeros_like(corr1.corr())\n",
    "triangle_indices = np.triu_indices_from(mask)\n",
    "mask[triangle_indices] = True\n",
    "\n",
    "plt.figure(figsize=(16, 12))\n",
    "sns.set_style('white')\n",
    "\n",
    "# Adjust the font size and annotation settings\n",
    "sns.heatmap(corr1.corr().round(2), mask=mask, annot=True, fmt=\".2f\", cmap='summer', annot_kws={'size':15})\n",
    "plt.title('Correlation for Defaulters (Target 1)', fontsize=20)\n",
    "plt.xticks(fontsize=12)\n",
    "plt.yticks(fontsize=12)\n",
    "\n",
    "plt.show();"
   ]
  },
  {
   "cell_type": "markdown",
   "id": "a8373b8b-6a44-4b59-b5be-6fd6e52a711d",
   "metadata": {},
   "source": [
    "#### Observation:"
   ]
  },
  {
   "cell_type": "markdown",
   "id": "45836c91-1d55-451d-8094-831888ea33d4",
   "metadata": {},
   "source": [
    "- \"AMT_INCOME_TOTAL\" has a very high positive correlation (close to 1) with itself, which is expected as it represents the perfect correlation of a variable with itself.\n",
    "\n",
    "- There are several variables that have moderate to high positive correlations with \"AMT_INCOME_TOTAL\", such as \"AMT_CREDIT\", \"AMT_ANNUITY\", and \n",
    "\n",
    "- \"AMT_GOODS_PRICE\". This suggests that these variables are positively associated with the target variable, meaning higher values of these variables tend to correspond with higher income levels.\n",
    "\n",
    "- Variables like \"REGION_POPULATION_RELATIVE\", \"DAYS_BIRTH\", and \"DAYS_EMPLOYED\" have low or near-zero correlations with \"AMT_INCOME_TOTAL\", indicating that they have little or no linear relationship with the target variable.\n",
    "\n",
    "- Some variables, such as \"REG_CITY_NOT_LIVE_CITY\" and \"LIVE_CITY_NOT_WORK_CITY\", have moderate negative correlations with \"AMT_INCOME_TOTAL\", suggesting that higher values of these variables are associated with lower income levels.\n",
    "\n",
    "- The correlation matrix appears to be symmetric about the diagonal, which is expected since the correlation between variable A and variable B should be the same as the correlation between variable B and variable A."
   ]
  },
  {
   "cell_type": "markdown",
   "id": "31c0149b-39e2-46f7-b845-fa66a7b21538",
   "metadata": {},
   "source": [
    "### Recommendations:\r\n",
    "\r\n",
    "✨ Bank should give focus on providing cash loans rather than revolving loans, as cash loans are less likely to default.\r\n",
    "\r\n",
    "✨ Female borrowers have a lower default rate. So, the bank should give a slight priority to female applicants.\r\n",
    "\r\n",
    "✨ Clients who do not have any accompanying applicants should be the focus group.\r\n",
    "\r\n",
    "✨ The safest segments of employment for lending are workers, commercial associates, and pensioners.\r\n",
    "\r\n",
    "✨ Clients with higher education degrees should be given more loans.\r\n",
    "\r\n",
    "✨ Married clients are safer than unmarried clients.\r\n",
    "\r\n",
    "✨ Homeowners and tenants are more likely to seek loans and have a lower risk of defaulting compared to those living with their parents. The bank should prioritize loan applications from individuals who own or rent housing.\r\n",
    "\r\n",
    "✨ People having a house or apartment are safer candidates for providing loans.\r\n",
    "\r\n",
    "✨ Low-skill laborers and drivers should be given less priority, as they have a higher probability of making defaults.\r\n",
    "\r\n",
    "✨ People with income less than 1 million and taking loans close to 1 million have a higher chance of defaults, so they should not be the focus.\r\n",
    "\r\n",
    "✨ Married couples with fewer than five children are considered safe for providing loans.\r\n",
    "\r\n",
    "✨ Clients with an annuity of less than 100K are on the safer side for the bank.\r\n",
    "\r\n",
    "✨ Customers with higher education degrees, particularly those who are married, tend to take out larger loan amounts and have a lower risk of default. The bank could consider offering higher credit limits or loan amounts to this segment.\r\n",
    "\r\n",
    "✨ 80-90% of customers who were previously canceled or refused are repayers. So, the bank has to reverify those applications.\r\n",
    "\r\n",
    "✨ Clients who previously had an unused loan offer should not be given new loans despite having high incomes, as these clients have the maximum chance of defaulting on loans.\r\n",
    "\r\n",
    "✨ Male borrowers with lower secondary or secondary education levels and very low to moderate incomes exhibit a higher chance of default. The bank should scrutinize such applications more carefully and potentially implement stricter lending criteria for this segment.\r\n",
    "\r\n",
    "✨ Borrowers in the 20-40 age group tend to have a higher risk of default, while those above 40 exhibit lower default rates. The bank should factor in age-related risk patterns when assessing loan applications and adjust lending policies accordingly.\r\n",
    "\r\n",
    "✨ The analysis revealed strong correlations between variables like AMT_CREDIT, AMT_ANNUITY, AMT_INCOME_TOTAL, and AMT_GOODS_PRICE. The bank could develop credit scoring models or risk assessment frameworks based on these correlated variables to better evaluate loan applications."
   ]
  }
 ],
 "metadata": {
  "kernelspec": {
   "display_name": "Python 3 (ipykernel)",
   "language": "python",
   "name": "python3"
  },
  "language_info": {
   "codemirror_mode": {
    "name": "ipython",
    "version": 3
   },
   "file_extension": ".py",
   "mimetype": "text/x-python",
   "name": "python",
   "nbconvert_exporter": "python",
   "pygments_lexer": "ipython3",
   "version": "3.11.7"
  }
 },
 "nbformat": 4,
 "nbformat_minor": 5
}
